{
 "cells": [
  {
   "cell_type": "markdown",
   "metadata": {},
   "source": [
    "# Homework 3, Question 2: Quantum Phase Estimation\n",
    "\n",
    "Implement the phase-estimation circuit to find the eigenvalue associated with eigenvector \n",
    "\n",
    "$|u\\rangle = \\frac{1}{\\sqrt{2}}(|0\\rangle - i|1\\rangle)$\n",
    "\n",
    "of the unitary matrix \n",
    "\n",
    "$\\hat{U}_Y = \\begin{bmatrix} 1 & -i \\\\ i & 1 \\end{bmatrix}$\n",
    "\n",
    "(Hint: Two-bit precision will be enough for the purpose of this task!)"
   ]
  },
  {
   "cell_type": "code",
   "execution_count": 42,
   "metadata": {},
   "outputs": [
    {
     "name": "stdout",
     "output_type": "stream",
     "text": [
      "Requirement already satisfied: qiskit in /home/jhurst/Projects/phys440/venv/lib/python3.10/site-packages (1.2.1)\n",
      "Requirement already satisfied: qiskit-aer in /home/jhurst/Projects/phys440/venv/lib/python3.10/site-packages (0.15.1)\n",
      "Requirement already satisfied: qiskit-ibm-runtime in /home/jhurst/Projects/phys440/venv/lib/python3.10/site-packages (0.29.0)\n",
      "Requirement already satisfied: pylatexenc in /home/jhurst/Projects/phys440/venv/lib/python3.10/site-packages (2.10)\n",
      "Requirement already satisfied: rustworkx>=0.15.0 in /home/jhurst/Projects/phys440/venv/lib/python3.10/site-packages (from qiskit) (0.15.1)\n",
      "Requirement already satisfied: numpy<3,>=1.17 in /home/jhurst/Projects/phys440/venv/lib/python3.10/site-packages (from qiskit) (1.26.4)\n",
      "Requirement already satisfied: scipy>=1.5 in /home/jhurst/Projects/phys440/venv/lib/python3.10/site-packages (from qiskit) (1.14.1)\n",
      "Requirement already satisfied: sympy>=1.3 in /home/jhurst/Projects/phys440/venv/lib/python3.10/site-packages (from qiskit) (1.13.2)\n",
      "Requirement already satisfied: dill>=0.3 in /home/jhurst/Projects/phys440/venv/lib/python3.10/site-packages (from qiskit) (0.3.8)\n",
      "Requirement already satisfied: python-dateutil>=2.8.0 in /home/jhurst/Projects/phys440/venv/lib/python3.10/site-packages (from qiskit) (2.9.0.post0)\n",
      "Requirement already satisfied: stevedore>=3.0.0 in /home/jhurst/Projects/phys440/venv/lib/python3.10/site-packages (from qiskit) (5.3.0)\n",
      "Requirement already satisfied: typing-extensions in /home/jhurst/Projects/phys440/venv/lib/python3.10/site-packages (from qiskit) (4.12.2)\n",
      "Requirement already satisfied: symengine>=0.11 in /home/jhurst/Projects/phys440/venv/lib/python3.10/site-packages (from qiskit) (0.11.0)\n",
      "Requirement already satisfied: psutil>=5 in /home/jhurst/Projects/phys440/venv/lib/python3.10/site-packages (from qiskit-aer) (6.0.0)\n",
      "Requirement already satisfied: requests>=2.19 in /home/jhurst/Projects/phys440/venv/lib/python3.10/site-packages (from qiskit-ibm-runtime) (2.32.3)\n",
      "Requirement already satisfied: requests-ntlm>=1.1.0 in /home/jhurst/Projects/phys440/venv/lib/python3.10/site-packages (from qiskit-ibm-runtime) (1.3.0)\n",
      "Requirement already satisfied: urllib3>=1.21.1 in /home/jhurst/Projects/phys440/venv/lib/python3.10/site-packages (from qiskit-ibm-runtime) (2.2.3)\n",
      "Requirement already satisfied: websocket-client>=1.5.1 in /home/jhurst/Projects/phys440/venv/lib/python3.10/site-packages (from qiskit-ibm-runtime) (1.8.0)\n",
      "Requirement already satisfied: ibm-platform-services>=0.22.6 in /home/jhurst/Projects/phys440/venv/lib/python3.10/site-packages (from qiskit-ibm-runtime) (0.57.0)\n",
      "Requirement already satisfied: pydantic>=2.5.0 in /home/jhurst/Projects/phys440/venv/lib/python3.10/site-packages (from qiskit-ibm-runtime) (2.9.1)\n",
      "Requirement already satisfied: ibm-cloud-sdk-core<4.0.0,>=3.20.6 in /home/jhurst/Projects/phys440/venv/lib/python3.10/site-packages (from ibm-platform-services>=0.22.6->qiskit-ibm-runtime) (3.20.6)\n",
      "Requirement already satisfied: annotated-types>=0.6.0 in /home/jhurst/Projects/phys440/venv/lib/python3.10/site-packages (from pydantic>=2.5.0->qiskit-ibm-runtime) (0.7.0)\n",
      "Requirement already satisfied: pydantic-core==2.23.3 in /home/jhurst/Projects/phys440/venv/lib/python3.10/site-packages (from pydantic>=2.5.0->qiskit-ibm-runtime) (2.23.3)\n",
      "Requirement already satisfied: six>=1.5 in /home/jhurst/Projects/phys440/venv/lib/python3.10/site-packages (from python-dateutil>=2.8.0->qiskit) (1.16.0)\n",
      "Requirement already satisfied: charset-normalizer<4,>=2 in /home/jhurst/Projects/phys440/venv/lib/python3.10/site-packages (from requests>=2.19->qiskit-ibm-runtime) (3.3.2)\n",
      "Requirement already satisfied: idna<4,>=2.5 in /home/jhurst/Projects/phys440/venv/lib/python3.10/site-packages (from requests>=2.19->qiskit-ibm-runtime) (3.8)\n",
      "Requirement already satisfied: certifi>=2017.4.17 in /home/jhurst/Projects/phys440/venv/lib/python3.10/site-packages (from requests>=2.19->qiskit-ibm-runtime) (2024.8.30)\n",
      "Requirement already satisfied: cryptography>=1.3 in /home/jhurst/Projects/phys440/venv/lib/python3.10/site-packages (from requests-ntlm>=1.1.0->qiskit-ibm-runtime) (43.0.1)\n",
      "Requirement already satisfied: pyspnego>=0.4.0 in /home/jhurst/Projects/phys440/venv/lib/python3.10/site-packages (from requests-ntlm>=1.1.0->qiskit-ibm-runtime) (0.11.1)\n",
      "Requirement already satisfied: pbr>=2.0.0 in /home/jhurst/Projects/phys440/venv/lib/python3.10/site-packages (from stevedore>=3.0.0->qiskit) (6.1.0)\n",
      "Requirement already satisfied: mpmath<1.4,>=1.1.0 in /home/jhurst/Projects/phys440/venv/lib/python3.10/site-packages (from sympy>=1.3->qiskit) (1.3.0)\n",
      "Requirement already satisfied: cffi>=1.12 in /home/jhurst/Projects/phys440/venv/lib/python3.10/site-packages (from cryptography>=1.3->requests-ntlm>=1.1.0->qiskit-ibm-runtime) (1.17.1)\n",
      "Requirement already satisfied: PyJWT<3.0.0,>=2.8.0 in /home/jhurst/Projects/phys440/venv/lib/python3.10/site-packages (from ibm-cloud-sdk-core<4.0.0,>=3.20.6->ibm-platform-services>=0.22.6->qiskit-ibm-runtime) (2.9.0)\n",
      "Requirement already satisfied: pycparser in /home/jhurst/Projects/phys440/venv/lib/python3.10/site-packages (from cffi>=1.12->cryptography>=1.3->requests-ntlm>=1.1.0->qiskit-ibm-runtime) (2.22)\n"
     ]
    }
   ],
   "source": [
    "#@title Install Qiskit and other dependencies\n",
    "!pip install qiskit qiskit-aer qiskit-ibm-runtime pylatexenc"
   ]
  },
  {
   "cell_type": "code",
   "execution_count": 50,
   "metadata": {},
   "outputs": [],
   "source": [
    "#@title Imports\n",
    "import argparse\n",
    "import math\n",
    "import matplotlib.pyplot as plt\n",
    "from ipywidgets import interact\n",
    "from qiskit import  ClassicalRegister, QuantumCircuit, QuantumRegister\n",
    "from qiskit_aer import AerSimulator\n",
    "from qiskit_ibm_runtime import SamplerV2 as Sampler\n",
    "from qiskit_ibm_runtime.fake_provider import FakeProviderForBackendV2 as FakeProvider\n",
    "from qiskit.circuit.library import QFT\n",
    "from qiskit.transpiler.preset_passmanagers import generate_preset_pass_manager"
   ]
  },
  {
   "cell_type": "code",
   "execution_count": 44,
   "metadata": {},
   "outputs": [],
   "source": [
    "#@title Functions\n",
    "def make_circuit(operator=\"RX\", theta=63 * math.pi / 32, eigenvector=\"e1\", bits=6):\n",
    "    input_qubit = 0\n",
    "    n = bits\n",
    "\n",
    "    qubits = QuantumRegister(n+1, \"q\")\n",
    "    clbits = ClassicalRegister(n, \"c\")\n",
    "    circuit = QuantumCircuit(qubits, clbits)\n",
    "\n",
    "    # Input state\n",
    "    if operator == \"Z\":\n",
    "        if eigenvector == \"e0\":\n",
    "            circuit.x(input_qubit)\n",
    "    elif operator == \"Y\":\n",
    "        if eigenvector == \"e0\":\n",
    "            circuit.rx(math.pi/2, input_qubit)\n",
    "        else:\n",
    "            circuit.rx(-math.pi/2, input_qubit)\n",
    "    else:\n",
    "        if eigenvector == \"e0\":\n",
    "            circuit.ry(math.pi/2, input_qubit)\n",
    "        else:\n",
    "            circuit.ry(-math.pi/2, input_qubit)\n",
    "\n",
    "    # Prepare input for QFT:\n",
    "    for i in range(n):\n",
    "        circuit.h(i+1)\n",
    "    for i in range(n):\n",
    "        if operator == \"Z\" and i % 2 == 1:\n",
    "            circuit.cz(n-i, input_qubit)\n",
    "        elif operator == \"Y\" and i % 2 == 1:\n",
    "            circuit.cy(n-i, input_qubit)\n",
    "        elif operator == \"RX\":\n",
    "            circuit.crx(theta*(2**(n-i-1)), n-i, input_qubit)\n",
    "\n",
    "    # QFT:\n",
    "    circuit.append(QFT(n).inverse(), qubits[1:])\n",
    "\n",
    "    # Measure:\n",
    "    circuit.measure(qubits[1:], clbits)\n",
    "\n",
    "    return circuit\n",
    "\n",
    "def run_circuit(circuit, shots=1024):\n",
    "    backend = AerSimulator()\n",
    "    sampler = Sampler(backend)\n",
    "    pm = generate_preset_pass_manager(backend=backend, optimization_level=1)\n",
    "    isa_circuit = pm.run(circuit)\n",
    "    job = sampler.run([isa_circuit], shots=shots)\n",
    "    result = job.result()\n",
    "    return dict(sorted(result[0].data.c.get_counts().items()))\n",
    "\n",
    "def print_counts(counts):\n",
    "    for k, v in counts.items():\n",
    "        print(f\"{k}: {v}\")\n",
    "\n",
    "def plot_counts(counts):\n",
    "    plt.figure(figsize=(12, 6))\n",
    "    plt.bar(counts.keys(), counts.values())\n",
    "    plt.xlabel('Measurement Outcome')\n",
    "    plt.ylabel('Counts')\n",
    "    plt.title('Histogram of Measurement Outcomes')\n",
    "    plt.xticks(rotation=90)\n",
    "    plt.show()"
   ]
  },
  {
   "cell_type": "code",
   "execution_count": 55,
   "metadata": {},
   "outputs": [],
   "source": [
    "circuit = make_circuit(operator=\"Y\", eigenvector=\"e0\", bits=6)\n",
    "counts = run_circuit(circuit)"
   ]
  },
  {
   "cell_type": "code",
   "execution_count": 56,
   "metadata": {},
   "outputs": [
    {
     "data": {
      "image/png": "[encoded data removed]",
      "text/plain": [
       "<Figure size 1040x702.333 with 1 Axes>"
      ]
     },
     "execution_count": 56,
     "metadata": {},
     "output_type": "execute_result"
    }
   ],
   "source": [
    "circuit.draw(output=\"mpl\")"
   ]
  },
  {
   "cell_type": "code",
   "execution_count": 54,
   "metadata": {},
   "outputs": [
    {
     "name": "stdout",
     "output_type": "stream",
     "text": [
      "000010: 2\n",
      "000110: 24\n",
      "001010: 36\n",
      "001110: 3\n",
      "010010: 1\n",
      "010110: 112\n",
      "011010: 283\n",
      "011110: 75\n",
      "100010: 66\n",
      "100110: 261\n",
      "101010: 105\n",
      "101110: 3\n",
      "110010: 2\n",
      "110110: 27\n",
      "111010: 23\n",
      "111110: 1\n"
     ]
    }
   ],
   "source": [
    "print_counts(counts)"
   ]
  },
  {
   "cell_type": "code",
   "execution_count": null,
   "metadata": {},
   "outputs": [],
   "source": [
    "plot_counts(counts)"
   ]
  },
  {
   "cell_type": "code",
   "execution_count": 52,
   "metadata": {},
   "outputs": [
    {
     "data": {
      "application/vnd.jupyter.widget-view+json": {
       "model_id": "f6bc4e548cbf4214be0ed80ca61e939e",
       "version_major": 2,
       "version_minor": 0
      },
      "text/plain": [
       "interactive(children=(Dropdown(description='operator', options=('RX', 'Z', 'Y'), value='RX'), FloatSlider(valu…"
      ]
     },
     "metadata": {},
     "output_type": "display_data"
    },
    {
     "data": {
      "text/plain": [
       "<function __main__.run_all(operator='RX', theta=6.1850105367549055, eigenvector='e1', bits=6, shots=1024)>"
      ]
     },
     "execution_count": 52,
     "metadata": {},
     "output_type": "execute_result"
    }
   ],
   "source": [
    "def run_all(operator=\"RX\", theta=63 * math.pi / 32, eigenvector=\"e1\", bits=6, shots=1024):\n",
    "    circuit = make_circuit(operator=operator, theta=theta, eigenvector=eigenvector, bits=bits)\n",
    "    counts = run_circuit(circuit=circuit, shots=shots)\n",
    "    # print_counts(counts)\n",
    "    plot_counts(counts)\n",
    "\n",
    "interact(run_all, operator=[\"RX\", \"Z\", \"Y\"], theta=(0, 2*math.pi, 0.1), eigenvector=[\"e0\", \"e1\"], bits=(1, 10), shots=(1, 1024, 1))"
   ]
  }
 ],
 "metadata": {
  "kernelspec": {
   "display_name": "venv",
   "language": "python",
   "name": "python3"
  },
  "language_info": {
   "codemirror_mode": {
    "name": "ipython",
    "version": 3
   },
   "file_extension": ".py",
   "mimetype": "text/x-python",
   "name": "python",
   "nbconvert_exporter": "python",
   "pygments_lexer": "ipython3",
   "version": "3.10.12"
  }
 },
 "nbformat": 4,
 "nbformat_minor": 2
}
