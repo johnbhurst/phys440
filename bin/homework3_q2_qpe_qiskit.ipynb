{
 "cells": [
  {
   "cell_type": "code",
   "execution_count": 26,
   "metadata": {},
   "outputs": [],
   "source": [
    "## Imports\n",
    "\n",
    "import argparse\n",
    "import math\n",
    "from qiskit import  ClassicalRegister, QuantumCircuit, QuantumRegister\n",
    "from qiskit_aer import AerSimulator\n",
    "from qiskit_ibm_runtime import SamplerV2 as Sampler\n",
    "from qiskit_ibm_runtime.fake_provider import FakeProviderForBackendV2 as FakeProvider\n",
    "from qiskit.circuit.library import QFT\n",
    "from qiskit.transpiler.preset_passmanagers import generate_preset_pass_manager"
   ]
  },
  {
   "cell_type": "code",
   "execution_count": 27,
   "metadata": {},
   "outputs": [],
   "source": [
    "## Input\n",
    "operator = \"Z\"     # \"Z\", \"Y\" or \"RX\"\n",
    "theta = math.pi/2  # angle for RX operator\n",
    "eigenvector = \"e0\" # \"e0 or \"e1\"\n",
    "bits = 2\n",
    "provider = \"aer\"\n",
    "shots = 1024"
   ]
  },
  {
   "cell_type": "code",
   "execution_count": 28,
   "metadata": {},
   "outputs": [],
   "source": [
    "## Initialize\n",
    "input_qubit = 0\n",
    "n = bits\n",
    "\n",
    "qubits = QuantumRegister(n+1, \"q\")\n",
    "clbits = ClassicalRegister(n, \"c\")\n",
    "circuit = QuantumCircuit(qubits, clbits)"
   ]
  },
  {
   "cell_type": "code",
   "execution_count": 29,
   "metadata": {},
   "outputs": [
    {
     "data": {
      "text/plain": [
       "<qiskit.circuit.instructionset.InstructionSet at 0x7f7f305a0760>"
      ]
     },
     "execution_count": 29,
     "metadata": {},
     "output_type": "execute_result"
    }
   ],
   "source": [
    "## Build circuit\n",
    "\n",
    "# Input state\n",
    "if operator == \"Z\":\n",
    "    if eigenvector == \"e0\":\n",
    "        circuit.x(input_qubit)\n",
    "elif operator == \"Y\":\n",
    "    if eigenvector == \"e0\":\n",
    "        circuit.rx(math.pi/2, input_qubit)\n",
    "    else:\n",
    "        circuit.rx(-math.pi/2, input_qubit)\n",
    "else:\n",
    "    if eigenvector == \"e0\":\n",
    "        circuit.ry(math.pi/2, input_qubit)\n",
    "    else:\n",
    "        circuit.ry(-math.pi/2, input_qubit)\n",
    "\n",
    "# Prepare input for QFT:\n",
    "for i in range(n):\n",
    "    circuit.h(i+1)\n",
    "for i in range(n):\n",
    "    if operator == \"Z\" and i % 2 == 1:\n",
    "        circuit.cz(n-i, input_qubit)\n",
    "    elif operator == \"Y\" and i % 2 == 1:\n",
    "        circuit.cy(n-i, input_qubit)\n",
    "    elif operator == \"RX\":\n",
    "        circuit.crx(theta*(2**(n-i-1)), n-i, input_qubit)\n",
    "\n",
    "# QFT:\n",
    "circuit.append(QFT(n).inverse(), qubits[1:])\n",
    "\n",
    "# Measure:\n",
    "circuit.measure(qubits[1:], clbits)"
   ]
  },
  {
   "cell_type": "code",
   "execution_count": 30,
   "metadata": {},
   "outputs": [
    {
     "data": {
      "image/png": "[encoded data removed]",
      "text/plain": [
       "<Figure size 538.33x367.889 with 1 Axes>"
      ]
     },
     "execution_count": 30,
     "metadata": {},
     "output_type": "execute_result"
    }
   ],
   "source": [
    "\n",
    "## Diagram\n",
    "circuit.draw(output=\"mpl\")"
   ]
  },
  {
   "cell_type": "code",
   "execution_count": 31,
   "metadata": {},
   "outputs": [
    {
     "name": "stdout",
     "output_type": "stream",
     "text": [
      "10: 1024\n"
     ]
    }
   ],
   "source": [
    "## Run\n",
    "backend = AerSimulator()\n",
    "sampler = Sampler(backend)\n",
    "pm = generate_preset_pass_manager(backend=backend, optimization_level=1)\n",
    "isa_circuit = pm.run(circuit)\n",
    "job = sampler.run([isa_circuit], shots=shots)\n",
    "result = job.result()\n",
    "counts = result[0].data.c.get_counts()\n",
    "for k, v in counts.items():\n",
    "    print(f\"{k}: {v}\")"
   ]
  },
  {
   "cell_type": "code",
   "execution_count": null,
   "metadata": {},
   "outputs": [],
   "source": []
  }
 ],
 "metadata": {
  "kernelspec": {
   "display_name": "venv",
   "language": "python",
   "name": "python3"
  },
  "language_info": {
   "codemirror_mode": {
    "name": "ipython",
    "version": 3
   },
   "file_extension": ".py",
   "mimetype": "text/x-python",
   "name": "python",
   "nbconvert_exporter": "python",
   "pygments_lexer": "ipython3",
   "version": "3.10.12"
  }
 },
 "nbformat": 4,
 "nbformat_minor": 2
}
