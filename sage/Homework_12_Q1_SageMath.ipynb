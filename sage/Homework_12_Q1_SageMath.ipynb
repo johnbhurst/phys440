{
 "cells": [
  {
   "cell_type": "markdown",
   "id": "31792110",
   "metadata": {},
   "source": [
    "# PHYS440: Quantum Computing\n",
    "\n",
    "## Homework 1+2\n",
    "\n",
    "### Question 1(ii): X correlator\n",
    "\n",
    "This notebook is an example of doing quantum computing matrix calculations using SageMath."
   ]
  },
  {
   "cell_type": "code",
   "execution_count": 1,
   "id": "669338b5",
   "metadata": {},
   "outputs": [
    {
     "data": {
      "text/html": [
       "<html><script type=\"math/tex; mode=display\">\\newcommand{\\Bold}[1]{\\mathbf{#1}}\\verb|SageMath|\\verb| |\\verb|version|\\verb| |\\verb|9.5,|\\verb| |\\verb|Release|\\verb| |\\verb|Date:|\\verb| |\\verb|2022-01-30|</script></html>"
      ],
      "text/latex": [
       "$$\\newcommand{\\Bold}[1]{\\mathbf{#1}}\\verb|SageMath|\\verb| |\\verb|version|\\verb| |\\verb|9.5,|\\verb| |\\verb|Release|\\verb| |\\verb|Date:|\\verb| |\\verb|2022-01-30|$$"
      ],
      "text/plain": [
       "'SageMath version 9.5, Release Date: 2022-01-30'"
      ]
     },
     "execution_count": 1,
     "metadata": {},
     "output_type": "execute_result"
    }
   ],
   "source": [
    "%display latex\n",
    "version()"
   ]
  },
  {
   "cell_type": "markdown",
   "id": "7f12c608",
   "metadata": {},
   "source": [
    "First we define the Bell state $\\Phi^+$:"
   ]
  },
  {
   "cell_type": "code",
   "execution_count": 2,
   "id": "acd892cb",
   "metadata": {},
   "outputs": [
    {
     "data": {
      "text/html": [
       "<html><script type=\"math/tex; mode=display\">\\newcommand{\\Bold}[1]{\\mathbf{#1}}\\Phi^+= \\left(\\begin{array}{r}\n",
       "\\frac{1}{2} \\, \\sqrt{2} \\\\\n",
       "0 \\\\\n",
       "0 \\\\\n",
       "\\frac{1}{2} \\, \\sqrt{2}\n",
       "\\end{array}\\right)</script></html>"
      ],
      "text/latex": [
       "$$\\newcommand{\\Bold}[1]{\\mathbf{#1}}\\Phi^+= \\left(\\begin{array}{r}\n",
       "\\frac{1}{2} \\, \\sqrt{2} \\\\\n",
       "0 \\\\\n",
       "0 \\\\\n",
       "\\frac{1}{2} \\, \\sqrt{2}\n",
       "\\end{array}\\right)$$"
      ],
      "text/plain": [
       "\\Phi^+= \\left(\\begin{array}{r}\n",
       "\\frac{1}{2} \\, \\sqrt{2} \\\\\n",
       "0 \\\\\n",
       "0 \\\\\n",
       "\\frac{1}{2} \\, \\sqrt{2}\n",
       "\\end{array}\\right)"
      ]
     },
     "execution_count": 2,
     "metadata": {},
     "output_type": "execute_result"
    }
   ],
   "source": [
    "phiPlus = 1/sqrt(2)*Matrix([[1],[0],[0],[1]])\n",
    "LatexExpr(r'\\Phi^+=')+latex(phiPlus)"
   ]
  },
  {
   "cell_type": "markdown",
   "id": "52ecbac2",
   "metadata": {},
   "source": [
    "Now we define the operators $X_0=\\mathbb{1}\\otimes X$ and $X_1=X\\otimes \\mathbb{1}$:"
   ]
  },
  {
   "cell_type": "code",
   "execution_count": 3,
   "id": "b57fdfce",
   "metadata": {},
   "outputs": [
    {
     "data": {
      "text/html": [
       "<html><script type=\"math/tex; mode=display\">\\newcommand{\\Bold}[1]{\\mathbf{#1}}X_0= \\left(\\begin{array}{rr|rr}\n",
       "0 & 1 & 0 & 0 \\\\\n",
       "1 & 0 & 0 & 0 \\\\\n",
       "\\hline\n",
       " 0 & 0 & 0 & 1 \\\\\n",
       "0 & 0 & 1 & 0\n",
       "\\end{array}\\right)</script></html>"
      ],
      "text/latex": [
       "$$\\newcommand{\\Bold}[1]{\\mathbf{#1}}X_0= \\left(\\begin{array}{rr|rr}\n",
       "0 & 1 & 0 & 0 \\\\\n",
       "1 & 0 & 0 & 0 \\\\\n",
       "\\hline\n",
       " 0 & 0 & 0 & 1 \\\\\n",
       "0 & 0 & 1 & 0\n",
       "\\end{array}\\right)$$"
      ],
      "text/plain": [
       "X_0= \\left(\\begin{array}{rr|rr}\n",
       "0 & 1 & 0 & 0 \\\\\n",
       "1 & 0 & 0 & 0 \\\\\n",
       "\\hline\n",
       " 0 & 0 & 0 & 1 \\\\\n",
       "0 & 0 & 1 & 0\n",
       "\\end{array}\\right)"
      ]
     },
     "metadata": {},
     "output_type": "display_data"
    },
    {
     "data": {
      "text/html": [
       "<html><script type=\"math/tex; mode=display\">\\newcommand{\\Bold}[1]{\\mathbf{#1}}X_1= \\left(\\begin{array}{rr|rr}\n",
       "0 & 0 & 1 & 0 \\\\\n",
       "0 & 0 & 0 & 1 \\\\\n",
       "\\hline\n",
       " 1 & 0 & 0 & 0 \\\\\n",
       "0 & 1 & 0 & 0\n",
       "\\end{array}\\right)</script></html>"
      ],
      "text/latex": [
       "$$\\newcommand{\\Bold}[1]{\\mathbf{#1}}X_1= \\left(\\begin{array}{rr|rr}\n",
       "0 & 0 & 1 & 0 \\\\\n",
       "0 & 0 & 0 & 1 \\\\\n",
       "\\hline\n",
       " 1 & 0 & 0 & 0 \\\\\n",
       "0 & 1 & 0 & 0\n",
       "\\end{array}\\right)$$"
      ],
      "text/plain": [
       "X_1= \\left(\\begin{array}{rr|rr}\n",
       "0 & 0 & 1 & 0 \\\\\n",
       "0 & 0 & 0 & 1 \\\\\n",
       "\\hline\n",
       " 1 & 0 & 0 & 0 \\\\\n",
       "0 & 1 & 0 & 0\n",
       "\\end{array}\\right)"
      ]
     },
     "metadata": {},
     "output_type": "display_data"
    }
   ],
   "source": [
    "X = Matrix([[0,1],[1,0]])\n",
    "Id = matrix.identity(2)\n",
    "X0 = Id.tensor_product(X)\n",
    "X1 = X.tensor_product(Id)\n",
    "show(LatexExpr(r'X_0=')+latex(X0))\n",
    "show(LatexExpr(r'X_1=')+latex(X1))"
   ]
  },
  {
   "cell_type": "markdown",
   "id": "744c0e53",
   "metadata": {},
   "source": [
    "Finally, we compute the result $\\langle\\Phi^+|X_1X_0|\\Phi^+\\rangle$:"
   ]
  },
  {
   "cell_type": "code",
   "execution_count": 4,
   "id": "b87d634b",
   "metadata": {},
   "outputs": [
    {
     "data": {
      "text/html": [
       "<html><script type=\"math/tex; mode=display\">\\newcommand{\\Bold}[1]{\\mathbf{#1}}\\langle \\Phi^+|X_1X_0|\\Phi^+\\rangle= \\left(\\begin{array}{r}\n",
       "1\n",
       "\\end{array}\\right)</script></html>"
      ],
      "text/latex": [
       "$$\\newcommand{\\Bold}[1]{\\mathbf{#1}}\\langle \\Phi^+|X_1X_0|\\Phi^+\\rangle= \\left(\\begin{array}{r}\n",
       "1\n",
       "\\end{array}\\right)$$"
      ],
      "text/plain": [
       "\\langle \\Phi^+|X_1X_0|\\Phi^+\\rangle= \\left(\\begin{array}{r}\n",
       "1\n",
       "\\end{array}\\right)"
      ]
     },
     "execution_count": 4,
     "metadata": {},
     "output_type": "execute_result"
    }
   ],
   "source": [
    "result = phiPlus.conjugate().transpose()*X1*X0*phiPlus\n",
    "LatexExpr(r'\\langle \\Phi^+|X_1X_0|\\Phi^+\\rangle='+latex(result))"
   ]
  }
 ],
 "metadata": {
  "kernelspec": {
   "display_name": "SageMath 9.5",
   "language": "sage",
   "name": "sagemath"
  },
  "language_info": {
   "codemirror_mode": {
    "name": "ipython",
    "version": 3
   },
   "file_extension": ".py",
   "mimetype": "text/x-python",
   "name": "python",
   "nbconvert_exporter": "python",
   "pygments_lexer": "ipython3",
   "version": "3.10.12"
  }
 },
 "nbformat": 4,
 "nbformat_minor": 5
}
